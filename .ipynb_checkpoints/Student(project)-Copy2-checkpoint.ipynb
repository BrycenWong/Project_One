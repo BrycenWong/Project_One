{
 "cells": [
  {
   "cell_type": "markdown",
   "metadata": {},
   "source": [
    "#### Final Project Submission\n",
    "\n",
    "* <t>Student name:</t> Brycen Wong\n",
    "* <t>Student pace:</t> Self Paced\n",
    "* <t>Scheduled project review date/time:</t> Sometime in May\n",
    "* <t>Instructor name:</t> Eli"
   ]
  },
  {
   "cell_type": "code",
   "execution_count": 1,
   "metadata": {},
   "outputs": [],
   "source": [
    "# importing libraries\n",
    "import pandas as pd\n",
    "import numpy as np\n",
    "import matplotlib.pyplot as plt\n",
    "plt.style.use('seaborn-darkgrid')\n",
    "%matplotlib inline\n",
    "import seaborn as sns\n",
    "import statsmodels.api as sm\n",
    "\n",
    "#https://pypi.org/project/stargazer/\n",
    "from stargazer.stargazer import Stargazer \n",
    "\n",
    "#https://stackoverflow.com/questions/25698448/how-to-embed-html-into-ipython-output\n",
    "from IPython.core.display import display, HTML "
   ]
  },
  {
   "cell_type": "markdown",
   "metadata": {},
   "source": [
    "### Obtaining the Data"
   ]
  },
  {
   "cell_type": "code",
   "execution_count": 2,
   "metadata": {},
   "outputs": [
    {
     "name": "stdout",
     "output_type": "stream",
     "text": [
      "*** Summary of DataFrame ***\n",
      "<class 'pandas.core.frame.DataFrame'>\n",
      "RangeIndex: 21597 entries, 0 to 21596\n",
      "Data columns (total 21 columns):\n",
      "id               21597 non-null int64\n",
      "date             21597 non-null object\n",
      "price            21597 non-null float64\n",
      "bedrooms         21597 non-null int64\n",
      "bathrooms        21597 non-null float64\n",
      "sqft_living      21597 non-null int64\n",
      "sqft_lot         21597 non-null int64\n",
      "floors           21597 non-null float64\n",
      "waterfront       19221 non-null category\n",
      "view             21534 non-null category\n",
      "condition        21597 non-null category\n",
      "grade            21597 non-null category\n",
      "sqft_above       21597 non-null int64\n",
      "sqft_basement    21597 non-null int64\n",
      "yr_built         21597 non-null int64\n",
      "yr_renovated     17755 non-null float64\n",
      "zipcode          21597 non-null int64\n",
      "lat              21597 non-null float64\n",
      "long             21597 non-null float64\n",
      "sqft_living15    21597 non-null int64\n",
      "sqft_lot15       21597 non-null int64\n",
      "dtypes: category(4), float64(6), int64(10), object(1)\n",
      "memory usage: 2.9+ MB\n",
      "None\n"
     ]
    }
   ],
   "source": [
    "# Read *.csv file as a pandas DataFrame\n",
    "df = pd.read_csv('kc_house_data.txt')\n",
    "\n",
    "# Change to correct Data Types\n",
    "df.waterfront = df.waterfront.astype('category')\n",
    "df.condition = df.condition.astype('category')\n",
    "df.grade = df.grade.astype('category')\n",
    "df.view = df.view.astype('category')\n",
    "df.sqft_basement.replace(['?'], '0', inplace=True)\n",
    "df.sqft_basement = df.sqft_basement.astype('float').astype('int')\n",
    "\n",
    "print('*** Summary of DataFrame ***')\n",
    "print(df.info())"
   ]
  },
  {
   "cell_type": "markdown",
   "metadata": {},
   "source": [
    "### Initial Variables to Remove\n",
    "\n",
    "For this analysis, we are concerned with the features of the house (or neighbors) and not id or geographic considerations. Because of this, we remove the following variables.\n",
    "- id\n",
    "- zipcode\n",
    "- lat and long"
   ]
  },
  {
   "cell_type": "code",
   "execution_count": 4,
   "metadata": {},
   "outputs": [
    {
     "ename": "ValueError",
     "evalue": "Need to specify at least one of 'labels', 'index' or 'columns'",
     "output_type": "error",
     "traceback": [
      "\u001b[0;31m---------------------------------------------------------------------------\u001b[0m",
      "\u001b[0;31mValueError\u001b[0m                                Traceback (most recent call last)",
      "\u001b[0;32m<ipython-input-4-e5335a9d857b>\u001b[0m in \u001b[0;36m<module>\u001b[0;34m\u001b[0m\n\u001b[1;32m      2\u001b[0m \u001b[0;31m### Add code to remove id, zipcode, lat, long\u001b[0m\u001b[0;34m\u001b[0m\u001b[0;34m\u001b[0m\u001b[0;34m\u001b[0m\u001b[0m\n\u001b[1;32m      3\u001b[0m \u001b[0;31m### Ref: https://pandas.pydata.org/pandas-docs/stable/reference/api/pandas.DataFrame.drop.html\u001b[0m\u001b[0;34m\u001b[0m\u001b[0;34m\u001b[0m\u001b[0;34m\u001b[0m\u001b[0m\n\u001b[0;32m----> 4\u001b[0;31m \u001b[0mdf\u001b[0m\u001b[0;34m.\u001b[0m\u001b[0mdrop\u001b[0m\u001b[0;34m(\u001b[0m\u001b[0;34m)\u001b[0m\u001b[0;34m\u001b[0m\u001b[0;34m\u001b[0m\u001b[0m\n\u001b[0m",
      "\u001b[0;32m~/anaconda3/lib/python3.7/site-packages/pandas/core/frame.py\u001b[0m in \u001b[0;36mdrop\u001b[0;34m(self, labels, axis, index, columns, level, inplace, errors)\u001b[0m\n\u001b[1;32m   3938\u001b[0m                                            \u001b[0mindex\u001b[0m\u001b[0;34m=\u001b[0m\u001b[0mindex\u001b[0m\u001b[0;34m,\u001b[0m \u001b[0mcolumns\u001b[0m\u001b[0;34m=\u001b[0m\u001b[0mcolumns\u001b[0m\u001b[0;34m,\u001b[0m\u001b[0;34m\u001b[0m\u001b[0;34m\u001b[0m\u001b[0m\n\u001b[1;32m   3939\u001b[0m                                            \u001b[0mlevel\u001b[0m\u001b[0;34m=\u001b[0m\u001b[0mlevel\u001b[0m\u001b[0;34m,\u001b[0m \u001b[0minplace\u001b[0m\u001b[0;34m=\u001b[0m\u001b[0minplace\u001b[0m\u001b[0;34m,\u001b[0m\u001b[0;34m\u001b[0m\u001b[0;34m\u001b[0m\u001b[0m\n\u001b[0;32m-> 3940\u001b[0;31m                                            errors=errors)\n\u001b[0m\u001b[1;32m   3941\u001b[0m \u001b[0;34m\u001b[0m\u001b[0m\n\u001b[1;32m   3942\u001b[0m     @rewrite_axis_style_signature('mapper', [('copy', True),\n",
      "\u001b[0;32m~/anaconda3/lib/python3.7/site-packages/pandas/core/generic.py\u001b[0m in \u001b[0;36mdrop\u001b[0;34m(self, labels, axis, index, columns, level, inplace, errors)\u001b[0m\n\u001b[1;32m   3771\u001b[0m             \u001b[0maxes\u001b[0m\u001b[0;34m,\u001b[0m \u001b[0m_\u001b[0m \u001b[0;34m=\u001b[0m \u001b[0mself\u001b[0m\u001b[0;34m.\u001b[0m\u001b[0m_construct_axes_from_arguments\u001b[0m\u001b[0;34m(\u001b[0m\u001b[0;34m(\u001b[0m\u001b[0mindex\u001b[0m\u001b[0;34m,\u001b[0m \u001b[0mcolumns\u001b[0m\u001b[0;34m)\u001b[0m\u001b[0;34m,\u001b[0m \u001b[0;34m{\u001b[0m\u001b[0;34m}\u001b[0m\u001b[0;34m)\u001b[0m\u001b[0;34m\u001b[0m\u001b[0;34m\u001b[0m\u001b[0m\n\u001b[1;32m   3772\u001b[0m         \u001b[0;32melse\u001b[0m\u001b[0;34m:\u001b[0m\u001b[0;34m\u001b[0m\u001b[0;34m\u001b[0m\u001b[0m\n\u001b[0;32m-> 3773\u001b[0;31m             raise ValueError(\"Need to specify at least one of 'labels', \"\n\u001b[0m\u001b[1;32m   3774\u001b[0m                              \"'index' or 'columns'\")\n\u001b[1;32m   3775\u001b[0m \u001b[0;34m\u001b[0m\u001b[0m\n",
      "\u001b[0;31mValueError\u001b[0m: Need to specify at least one of 'labels', 'index' or 'columns'"
     ]
    }
   ],
   "source": [
    "\n",
    "### Add code to remove id, zipcode, lat, long\n",
    "### Ref: https://pandas.pydata.org/pandas-docs/stable/reference/api/pandas.DataFrame.drop.html\n",
    "df.drop()"
   ]
  },
  {
   "cell_type": "markdown",
   "metadata": {},
   "source": [
    "### Check for Multicollinearity"
   ]
  },
  {
   "cell_type": "code",
   "execution_count": 3,
   "metadata": {},
   "outputs": [
    {
     "data": {
      "image/png": "[encoded data removed]",
      "text/plain": [
       "<Figure size 432x288 with 2 Axes>"
      ]
     },
     "metadata": {
      "needs_background": "light"
     },
     "output_type": "display_data"
    }
   ],
   "source": [
    "df_predictors = df.iloc[:,:]\n",
    "df_target = df.iloc[:,2:3]\n",
    "\n",
    "# draw the heatmap\n",
    "sns.heatmap(df_predictors.corr(), center=0, linewidths=.5, cmap = 'coolwarm');"
   ]
  },
  {
   "cell_type": "markdown",
   "metadata": {},
   "source": [
    "### Other Variables to Remove\n",
    "\n",
    "We observe multicollinearity in sqft_living, which correlates with:\n",
    "- bathrooms\n",
    "- sqft_above\n",
    "- and sqft_living15\n",
    "Because of this, I decide to remove these variables."
   ]
  },
  {
   "cell_type": "code",
   "execution_count": null,
   "metadata": {},
   "outputs": [],
   "source": [
    "### Code to remove bathroom, sqft_above, sqft_living15"
   ]
  },
  {
   "cell_type": "markdown",
   "metadata": {},
   "source": [
    "### Variables of Interest\n",
    "\n",
    "For this analysis, our base model will include the following variables:\n",
    "- Bedroom\n",
    "- Floors\n",
    "- Living Squarefootage\n",
    "- Lot Squarefootage\n",
    "- Basement Squarefootage\n",
    "- Year Built\n",
    "- Neighbor Lot Squarefootage\n",
    "\n",
    "We will look at the effect of adding these variables to the base model:\n",
    "- Housing grades\n",
    "- View identifiers\n",
    "- Renovation times\n",
    "- Waterfront Presence"
   ]
  },
  {
   "cell_type": "code",
   "execution_count": null,
   "metadata": {},
   "outputs": [],
   "source": [
    "# Create list of feature columns\n",
    "starting_cols = [ 'bedrooms', 'floors', 'sqft_living', 'sqft_lot',\n",
    "                 'sqft_basement', 'yr_built', 'sqft_lot15']\n",
    "\n",
    "grade_cols = ['grade_4', 'grade_5', 'grade_6', 'grade_7', 'grade_8',\n",
    "              'grade_9', 'grade_10', 'grade_11', 'grade_12', 'grade_13']\n",
    "\n",
    "view_cols = ['view_1.0', 'view_2.0', 'view_3.0', 'view_4.0']\n",
    "\n",
    "condition_cols = ['condition_2', 'condition_3', 'condition_4', 'condition_5']\n",
    "\n",
    "renovation_cols = ['renovated_20th century', 'renovated_21st century']\n",
    "\n",
    "waterfront_cols = ['waterfront_0.0']\n",
    "\n",
    "feature_cols = starting_cols + \n",
    "                grade_cols + \n",
    "                view_cols + \n",
    "                condition_cols + \n",
    "                renovation_cols + \n",
    "                waterfront_cols"
   ]
  },
  {
   "cell_type": "code",
   "execution_count": null,
   "metadata": {},
   "outputs": [],
   "source": [
    "# optional preemptive modeling on unprocessed data\n",
    "\n",
    "# let's see how this data looks without any processing\n",
    "\n",
    "# Set exogenous (y) variable with no log transform\n",
    "endogenous_variable = df.price\n",
    "\n",
    "# Model 1: price = bedroom + const\n",
    "model1_exogenous_variables = [\"bedrooms\"]\n",
    "model1 = sm.OLS(endog=endogenous_variable, exog=sm.add_constant(df[model1_exogenous_variables])).fit()\n",
    "\n",
    "# Model 2: price = bathroom + const\n",
    "model2_exogenous_variables = [\"bathrooms\"]\n",
    "model2 = sm.OLS(endog=endogenous_variable, exog=sm.add_constant(df[model2_exogenous_variables])).fit()\n",
    "\n",
    "# Model 3: price = bedroom + bathroom + const\n",
    "model3_exogenous_variables = ['bedrooms', 'bathrooms']\n",
    "model3 = sm.OLS(endog=endogenous_variable, exog=sm.add_constant(df[model3_exogenous_variables])).fit()\n",
    "\n",
    "# Model 4: ...\n",
    "model4_exogenous_variables = ['sqft_living', 'sqft_lot']\n",
    "model4 = sm.OLS(endog=endogenous_variable, exog=sm.add_constant(df[model4_exogenous_variables])).fit()\n",
    "\n",
    "# Model 5: ...\n",
    "model5_exogenous_variables = ['bedrooms', 'bathrooms', 'sqft_living', 'sqft_lot' ]\n",
    "model5 = sm.OLS(endog=endogenous_variable, exog=sm.add_constant(df[model5_exogenous_variables])).fit()\n",
    "\n",
    "# Create Table 1\n",
    "table1 = Stargazer([model1, model2, model3, model4, model5])\n",
    "table1_html = HTML(table1.render_html())\n",
    "\n",
    "# Display Table \n",
    "display(table1_html)"
   ]
  },
  {
   "cell_type": "markdown",
   "metadata": {},
   "source": [
    "#### Looking at a model:\n",
    "1. (Dataset)\n",
    "2. Model Variables Chosen\n",
    "3. Significance of Variables\n",
    "4. Explanatory Power of the Model (R^2)\n",
    "\n",
    "#### Comparing Two Models:\n",
    "5. Describe the difference of 1 between the two\n",
    "5. Describe the difference of 2 between the two\n",
    "5. Describe the difference of 3 between the two\n",
    "5. Describe the difference of 4 between the two\n"
   ]
  },
  {
   "cell_type": "code",
   "execution_count": null,
   "metadata": {},
   "outputs": [],
   "source": [
    "# Set exogenous (y) variable\n",
    "endogenous_variable = ['price']\n",
    "\n",
    "# All (Yes/No) Waterfront\n",
    "df_all = df\n",
    "df_all.waterfront = df_all.waterfront.astype('float64')\n",
    "\n",
    "# Subset by Yes Waterfront\n",
    "dfyw = df[df.waterfront == 1]\n",
    "\n",
    "# Subset by No Waterfront\n",
    "dfnw = df[df.waterfront == 0]\n",
    "\n",
    "\n",
    "\n",
    "# Model 6: price = bedrooms + bathrooms + sqft_living + sqft_lot + const\n",
    "# Sample: Only Yes Waterfront Properties\n",
    "model6_exogenous_variables = ['bedrooms', 'bathrooms', 'sqft_living', 'sqft_lot' ]\n",
    "model6 = sm.OLS(endog=dfyw[endogenous_variable], exog=sm.add_constant(dfyw[model6_exogenous_variables])).fit()\n",
    "\n",
    "# # Model 7: price = bedrooms + bathrooms + sqft_living + sqft_lot + const\n",
    "# # Sample: Everyone\n",
    "# model7_exogenous_variables = ['bedrooms', 'bathrooms', 'sqft_living', 'sqft_lot', 'waterfront']\n",
    "# model7 = sm.OLS(endog=df_all[endogenous_variable], exog=sm.add_constant(df_all[model7_exogenous_variables])).fit()\n",
    "\n",
    "# Model 8: price = bedrooms + bathrooms + sqft_living + sqft_lot + const\n",
    "# Sample: Only No Waterfront Properties\n",
    "model8_exogenous_variables = ['bedrooms', 'bathrooms', 'sqft_living', 'sqft_lot' ]\n",
    "model8 = sm.OLS(endog=dfnw[endogenous_variable], exog=sm.add_constant(dfnw[model8_exogenous_variables])).fit()\n",
    "\n",
    "\n",
    "\n",
    "# Create Table 2\n",
    "table2 = Stargazer([model6, model8])\n",
    "table2_html = HTML(table2.render_html())\n",
    "\n",
    "# Display Table  2\n",
    "display(table2_html)"
   ]
  },
  {
   "cell_type": "code",
   "execution_count": null,
   "metadata": {},
   "outputs": [],
   "source": [
    "# *** = p value <.01\n",
    "\n",
    "\n",
    "# So without any processing we were able to obtain these models "
   ]
  },
  {
   "cell_type": "markdown",
   "metadata": {},
   "source": [
    "### Summary of Step 1\n",
    "\n",
    "There are 21,597 records and 21 columns.\n",
    "The target variable we are going to predict is the price. \n",
    "\n",
    "The other variables are features that affect the target. Some are unecessary for our analysis.\n",
    "There are columns with null values (e.g. waterfront) or wrong datatypes (e.g. sqft_basement).\n"
   ]
  },
  {
   "cell_type": "markdown",
   "metadata": {},
   "source": [
    "### Step 2 - Scrubbing the data\n",
    "* 2.1 - Subsampling \n",
    "* 2.2 - Dealing with datatypes \n",
    "* 2.3 - Dealing with null values \n",
    "* 2.4 - Checking for multicollinearity \n",
    "* 2.5 - Remove unnecessary columns"
   ]
  },
  {
   "cell_type": "markdown",
   "metadata": {},
   "source": [
    "### 2.1 - Subsampling"
   ]
  },
  {
   "cell_type": "code",
   "execution_count": null,
   "metadata": {},
   "outputs": [],
   "source": [
    "# no need to subsample as dataset is not that large\n"
   ]
  },
  {
   "cell_type": "markdown",
   "metadata": {},
   "source": [
    "### 2.2 - Dealing with datatypes\n"
   ]
  },
  {
   "cell_type": "code",
   "execution_count": null,
   "metadata": {},
   "outputs": [],
   "source": [
    "# check all datatypes first\n",
    "print('\\n*** Data Types ***\\n')\n",
    "print(df.dtypes)"
   ]
  },
  {
   "cell_type": "code",
   "execution_count": null,
   "metadata": {},
   "outputs": [],
   "source": [
    "# these datatypes should be categorical\n",
    "\n",
    "df.waterfront = df.waterfront.astype('category')\n",
    "df.condition = df.condition.astype('category')\n",
    "df.grade = df.grade.astype('category')\n",
    "df.view = df.view.astype('category')"
   ]
  },
  {
   "cell_type": "code",
   "execution_count": null,
   "metadata": {},
   "outputs": [],
   "source": [
    "# As we saw in the head, the sqft_basement has '?' values we have to deal with.\n",
    "\n",
    "len(df.query(\"sqft_basement == '?'\"))\n",
    "# there are 454 of these questionmarks set as values\n"
   ]
  },
  {
   "cell_type": "code",
   "execution_count": null,
   "metadata": {},
   "outputs": [],
   "source": [
    "# convert the '?' in '0' as we believe it is a placeholder for having no basement.\n",
    "df.sqft_basement.replace(['?'], '0', inplace=True)\n",
    "\n",
    "# then cast it to an float and to an int-datatype\n",
    "df.sqft_basement = df.sqft_basement.astype('float').astype('int')\n",
    "\n",
    "# check datatype and unique values\n",
    "print('*** Datatype ***: ', df.sqft_basement.dtype)\n",
    "print('\\n*** Unique Values ***')\n",
    "print(df.sqft_basement.unique())"
   ]
  },
  {
   "cell_type": "markdown",
   "metadata": {},
   "source": [
    "### 2.3 - Dealing with NA values"
   ]
  },
  {
   "cell_type": "code",
   "execution_count": null,
   "metadata": {},
   "outputs": [],
   "source": [
    "print(df.isna().sum())\n"
   ]
  },
  {
   "cell_type": "code",
   "execution_count": null,
   "metadata": {},
   "outputs": [],
   "source": [
    "# we are trying to view valid entries of these variables and the distribution\n",
    "df['view'].unique()"
   ]
  },
  {
   "cell_type": "code",
   "execution_count": null,
   "metadata": {},
   "outputs": [],
   "source": [
    "df.view.value_counts()"
   ]
  },
  {
   "cell_type": "markdown",
   "metadata": {},
   "source": [
    "Ok straightforward enough, how often a house has been viewed."
   ]
  },
  {
   "cell_type": "code",
   "execution_count": null,
   "metadata": {},
   "outputs": [],
   "source": [
    "df.waterfront.unique()"
   ]
  },
  {
   "cell_type": "code",
   "execution_count": null,
   "metadata": {},
   "outputs": [],
   "source": [
    "df.waterfront.value_counts()"
   ]
  },
  {
   "cell_type": "code",
   "execution_count": null,
   "metadata": {},
   "outputs": [],
   "source": [
    "\n",
    "\n",
    "df.yr_renovated.unique()"
   ]
  },
  {
   "cell_type": "code",
   "execution_count": null,
   "metadata": {},
   "outputs": [],
   "source": [
    "df.yr_renovated.value_counts()"
   ]
  },
  {
   "cell_type": "code",
   "execution_count": null,
   "metadata": {},
   "outputs": [],
   "source": [
    "# Using exact yr_renovated values are hard to interpret, so I categorize them into time frames:\n",
    "names = ['no renovations', '20th century', '21st century']\n",
    "\n",
    "# Binning\n",
    "bins = [0., 1950, 2000, 2015]\n",
    "df['renovated'] = pd.cut(df['yr_renovated'], bins, labels = names, right=False)\n",
    "\n",
    "print('\\n*** Unique Values ***')\n",
    "print(df.renovated.unique())\n",
    "print('\\n*** Value Counts ***')\n",
    "print(df.renovated.value_counts())"
   ]
  },
  {
   "cell_type": "code",
   "execution_count": null,
   "metadata": {},
   "outputs": [],
   "source": [
    "# after some digging, A vast majority of homes have not been viewed, renovated or on the water.\n",
    "# We can again assume NA's as placeholders, though lets see how the NA waterfront observations compare to observations\n",
    "# that declared their waterfront status\n",
    "\n",
    "df.yr_renovated.fillna(0, inplace = True)\n",
    "df.view.fillna(0, inplace = True)\n",
    "# oh geez, oh man, I forgot I had to specify inplace to make the changes permanent.\n",
    "\n",
    "#subsetting the data to sort by waterfront status and visualizing price points.\n",
    "df_nowater = df[df.waterfront == 0]\n",
    "df_water = df[df.waterfront == 1]\n",
    "df_na_water = df[df.waterfront.isna()]\n",
    "\n",
    "# Distribution of houses with no waterfront\n",
    "df_nowater.price.plot(kind='box', vert=False)"
   ]
  },
  {
   "cell_type": "code",
   "execution_count": null,
   "metadata": {},
   "outputs": [],
   "source": [
    "# Dristribution of houses with waterfront\n",
    "df_water.price.plot(kind='box', vert=False)"
   ]
  },
  {
   "cell_type": "code",
   "execution_count": null,
   "metadata": {},
   "outputs": [],
   "source": [
    "# Distribution where waterfront is unknown or NA\n",
    "df_na_water.price.plot(kind='box', vert=False)"
   ]
  },
  {
   "cell_type": "code",
   "execution_count": null,
   "metadata": {},
   "outputs": [],
   "source": [
    "# after an excruciatingly long time deliberating how to handle the waterfront missing values, we will fill with zeros \n",
    "# for the NA values as their price distribution is more similar to houses without a waterfront\n",
    "\n",
    "df.waterfront.fillna(0, inplace = True)\n"
   ]
  },
  {
   "cell_type": "markdown",
   "metadata": {},
   "source": [
    "### 2.4 - Checking for multicollinearity\n",
    "\n",
    "One of the assumptions of multiple linear regression is no multicollinearity between predictor variables.\n",
    "The property in question describing high correlation between predictor variables.\n",
    "\n",
    "This is undesirable because the variables should be independent in so far as manipulating one of the variables should not affect the other target variables for ceteris paribus, or all things being equal, change in 'a' equals change in 'b'."
   ]
  },
  {
   "cell_type": "code",
   "execution_count": null,
   "metadata": {},
   "outputs": [],
   "source": [
    "# subset data frame for target and predictor variables\n",
    "\n",
    "df_predictors = df.iloc[:,3:]\n",
    "df_target = df.iloc[:,2:3]\n",
    "\n",
    "# draw the heatmap\n",
    "sns.heatmap(df_predictors.corr(), center=0, linewidths=.5, cmap = 'coolwarm');"
   ]
  },
  {
   "cell_type": "markdown",
   "metadata": {},
   "source": [
    "sqft_living seems to be highly correlated with bathrooms, sqft_above and sqft_living15.\n",
    "\n",
    "Intuitively this seems valid. considering that those 3 columns would have a direct impact on total sqft_living of a house.\n",
    "\n",
    "We'll drop those colums in the next section."
   ]
  },
  {
   "cell_type": "code",
   "execution_count": null,
   "metadata": {},
   "outputs": [],
   "source": [
    "\n",
    "# Just to be certain of correlation and we're not just relying on color visualization\n",
    "\n",
    "df_predictors.corr() > 0.75"
   ]
  },
  {
   "cell_type": "markdown",
   "metadata": {},
   "source": [
    "### 2.5 - Remove unnecessary columns\n",
    "\n",
    "We'll be removing id, date, lat, long and zipcode columns as they are not needed.\n",
    "\n",
    "Dropping yr_renovated as we will be going forward with a new column that better captures what we're looking for\n",
    "\n",
    "Also removing columns that violated multicollinearity assumption."
   ]
  },
  {
   "cell_type": "code",
   "execution_count": null,
   "metadata": {
    "scrolled": true
   },
   "outputs": [],
   "source": [
    "df.drop(['id', 'date', 'lat', 'long', 'zipcode', 'bathrooms', 'sqft_above', 'sqft_living15', 'yr_renovated'], axis=1, inplace=True)\n",
    "\n",
    "df"
   ]
  },
  {
   "cell_type": "markdown",
   "metadata": {},
   "source": [
    "### Step 2 summary\n",
    "\n",
    "In the data cleaning section we:\n",
    "\n",
    "Adressed na values and unsuitable datatypes\n",
    "\n",
    "Tested for multicollinearity\n",
    "\n",
    "Removed columns that would affect model performance\n"
   ]
  },
  {
   "cell_type": "markdown",
   "metadata": {},
   "source": [
    "### 3 EDA (Exploratory data analysis)\n",
    "\n",
    "3.1 Obtain and visualize important quantitative and categorical information \n",
    "\n",
    "3.2 Answer questions and derive insights relating to the new information."
   ]
  },
  {
   "cell_type": "code",
   "execution_count": null,
   "metadata": {},
   "outputs": [],
   "source": [
    "# build a subset of numerical variables for 5 point statistics\n",
    "numerical_columns = ['price', 'bedrooms', 'sqft_lot', 'floors', 'sqft_basement', \n",
    "           'yr_built', 'sqft_living', 'sqft_lot15']\n",
    "\n",
    "round(df[numerical_columns].describe(), 3)"
   ]
  },
  {
   "cell_type": "code",
   "execution_count": null,
   "metadata": {},
   "outputs": [],
   "source": [
    "df['price'].plot(kind='box', vert=False, figsize = (16,2))\n",
    "df[['sqft_lot', 'sqft_lot15']].plot(kind='box', vert=False, figsize = (16,2))\n",
    "df[['sqft_living', 'sqft_basement']].plot(kind='box', vert=False, figsize = (16,2))\n",
    "df[['bedrooms', 'floors']].plot(kind='box', vert=False, figsize = (16,2))      \n",
    "df[['yr_built']].plot(kind='box', vert=False, figsize = (16,2))                                    "
   ]
  },
  {
   "cell_type": "markdown",
   "metadata": {},
   "source": [
    "\n",
    "### Observations:\n",
    "\n",
    "price: The standard deviation is enormous, 75% of all houses have prices between 78,000 and 645,000.\n",
    "sqft_living15: The IQR is quiet straightforward with severe outliers. Same is true for sqft_basement.\n",
    "\n",
    "floors are simply ranged around the mean of 1.5. Makes enough sense, most houses would have zoning restrictions preventing too much variance here.\n",
    "\n",
    "bedrooms: The range is between 1 and 33 rooms with most of the houses having not more than 4 bedrooms. There are some outliers. That 33 bedroom datapoint is an extreme outlier with the next highest being 11.\n",
    "\n",
    "yr_built: 50% of the houses were built between 1951 and 1997. No outliers present. While new homes will normally fetch a higher price, will we find homes built in a certain time period are worth more than others?\n",
    "\n",
    "There are severe outliers in most of the variables due and would consider fitting the model a) without removing them and b) after removing them."
   ]
  },
  {
   "cell_type": "code",
   "execution_count": null,
   "metadata": {},
   "outputs": [],
   "source": [
    "fig = df[numerical_columns].hist(bins=50, color='navy', figsize=(10,10), grid=True)\n",
    "plt.tight_layout();"
   ]
  },
  {
   "cell_type": "code",
   "execution_count": null,
   "metadata": {},
   "outputs": [],
   "source": [
    "# Oh geez oh man, these columns sure aren't normally distributed, another assumption of linear regression violated.\n",
    "# may have to apply transformations.\n",
    "\n",
    "# Now for the categorical variables."
   ]
  },
  {
   "cell_type": "code",
   "execution_count": null,
   "metadata": {},
   "outputs": [],
   "source": [
    "# variable \"waterfront\"\n",
    "df.waterfront.value_counts(normalize=True).plot.bar(rot=0, sort_columns=True, \n",
    "                                                    title=\"\\nWaterfront\\n\", figsize=(5,3))\n",
    "plt.ylabel('Percentage of houses');"
   ]
  },
  {
   "cell_type": "code",
   "execution_count": null,
   "metadata": {},
   "outputs": [],
   "source": [
    "# variable \"view\"\n",
    "df.view.value_counts(normalize=True).plot.bar(rot=0, sort_columns=True, \n",
    "                                                    title=\"\\nViewed\\n\", figsize=(5,3))\n",
    "plt.ylabel('Percentage of houses');"
   ]
  },
  {
   "cell_type": "code",
   "execution_count": null,
   "metadata": {},
   "outputs": [],
   "source": [
    "# variable \"condition\"\n",
    "df.condition.value_counts(normalize=True).plot.bar(rot=0, sort_columns=True, \n",
    "                                                    title=\"\\nCondition\\n\", figsize=(5,3))\n",
    "plt.ylabel('Percentage of houses');"
   ]
  },
  {
   "cell_type": "code",
   "execution_count": null,
   "metadata": {},
   "outputs": [],
   "source": [
    "# variable \"grade\"\n",
    "df.grade.value_counts(normalize=True).plot.bar(rot=0, sort_columns=True, \n",
    "                                                    title=\"\\nGrade\\n\", figsize=(5,3))\n",
    "plt.ylabel('Percentage of houses');"
   ]
  },
  {
   "cell_type": "code",
   "execution_count": null,
   "metadata": {},
   "outputs": [],
   "source": [
    "# variable \"renovated\"\n",
    "df.renovated.value_counts(normalize=True).plot.bar(rot=0, sort_columns=True, \n",
    "                                                    title=\"\\nRenovated\\n\", figsize=(5,3))\n",
    "plt.ylabel('Percentage of houses');"
   ]
  },
  {
   "cell_type": "markdown",
   "metadata": {},
   "source": [
    "\n",
    "### Observations:\n",
    "\n",
    "Waterfront: Only 0.68% (146 of 21597) of all houses are located at the water.\n",
    "\n",
    "Condition: Most houses are in condition 3, 4 or 5. Scale of 1-5\n",
    "\n",
    "Grades: Around 2/3 of the houses are rated 7 or 8. Unusual scale of 3-13\n",
    "\n",
    "Renovation Status: 97% (20876 of 21597) of all building never were renovated."
   ]
  },
  {
   "cell_type": "code",
   "execution_count": null,
   "metadata": {},
   "outputs": [],
   "source": [
    "df.renovated.value_counts()"
   ]
  },
  {
   "cell_type": "markdown",
   "metadata": {},
   "source": [
    "### 3.2 answering questions with data "
   ]
  },
  {
   "cell_type": "markdown",
   "metadata": {},
   "source": [
    "#### Do renovations increase the value of a house?\n"
   ]
  },
  {
   "cell_type": "code",
   "execution_count": null,
   "metadata": {},
   "outputs": [],
   "source": [
    "# plotting renovated variable against price to see spread of values\n",
    "# seaborn's catplot function is an excellent tool for the job\n",
    "# https://seaborn.pydata.org/generated/seaborn.catplot.html\n",
    "\n",
    "sns.catplot(x=\"renovated\", y=\"price\", data=df, kind = 'boxen', height=4, aspect=3)\n",
    "plt.title('\\nRenovation Status vs. Price\\n')\n",
    "plt.xlabel('Renovation Status ')\n",
    "plt.ylabel('Price');"
   ]
  },
  {
   "cell_type": "markdown",
   "metadata": {},
   "source": [
    "It's not entirely clear cut, since so many properties never renovated, but like many facets the recency of the renovation likely fetches a higher prices similar to a recently built house or a newer model product.\n",
    "\n",
    "Notice that houses that renovated received a small bump in their price floor"
   ]
  },
  {
   "cell_type": "markdown",
   "metadata": {},
   "source": [
    "#### How much weight does grade have on price?"
   ]
  },
  {
   "cell_type": "code",
   "execution_count": null,
   "metadata": {},
   "outputs": [],
   "source": [
    "# plotting grade variable against price\n",
    "\n",
    "sns.catplot(x=\"grade\", y=\"price\", data=df, kind = 'boxen', height=4, aspect=3)\n",
    "plt.title('\\nGrade vs. Price\\n')\n",
    "plt.xlabel('Grade')\n",
    "plt.ylabel('Price');"
   ]
  },
  {
   "cell_type": "markdown",
   "metadata": {},
   "source": [
    "Very nice, this variable is very clear cut, looking like an almost exponential rise in price with higher grades. As each progressive grade increase leads to an overall higher price valuation.\n",
    "\n",
    "#### The grade column seems to have a strong bearing on price, do high grade houses have other traits in common?"
   ]
  },
  {
   "cell_type": "code",
   "execution_count": null,
   "metadata": {},
   "outputs": [],
   "source": [
    "df_max_grade = df[df.grade == 13]\n",
    "\n",
    "df_max_grade"
   ]
  },
  {
   "cell_type": "code",
   "execution_count": null,
   "metadata": {},
   "outputs": [],
   "source": [
    "df_max_grade.hist(figsize = (20,18))"
   ]
  },
  {
   "cell_type": "markdown",
   "metadata": {},
   "source": [
    "How auspicous, there are 13 homes that have the distinction of the highest grade which also happens to be 13. \n",
    "\n",
    "All of them are million dollar houses. none are waterfront. mode condition of 3. The grading criterion must be very selective to only admit .06% of all houses. It would be interesting to look into what constitutes this lofty grade.\n",
    "\n",
    "This exploration piques our interest as to how the next best grade compares."
   ]
  },
  {
   "cell_type": "code",
   "execution_count": null,
   "metadata": {},
   "outputs": [],
   "source": [
    "df_penultimate_grade = df[df.grade == 12]\n",
    "\n",
    "# how many made the grade and some 5 point stats.\n",
    "print(df_penultimate_grade.shape)\n",
    "df_penultimate_grade.describe()"
   ]
  },
  {
   "cell_type": "markdown",
   "metadata": {},
   "source": [
    "Again most of these homes are able to reach million dollar values.\n",
    "\n",
    "\n",
    "\n",
    "\n",
    "\n",
    "\n",
    "#### We have a strong hunch that waterfront properties were built earlier, akin to how major cities first developed near the coastline. Let's see if we're right\n"
   ]
  },
  {
   "cell_type": "code",
   "execution_count": null,
   "metadata": {},
   "outputs": [],
   "source": [
    "#reusing old subset from earlier section to see year distribution\n",
    "df_nowater.yr_built.hist()"
   ]
  },
  {
   "cell_type": "code",
   "execution_count": null,
   "metadata": {},
   "outputs": [],
   "source": [
    "#reusing old subset from earlier section to see year distribution\n",
    "df_water.yr_built.hist()"
   ]
  },
  {
   "cell_type": "markdown",
   "metadata": {},
   "source": [
    "Ok, this trend shows that as a finite and coveted feature, development on houses near desirable attributes occured first, and tapered off as there was less land supply available. Contrasted with the available non waterfront land which jumped up in the 1950's.\n"
   ]
  },
  {
   "cell_type": "markdown",
   "metadata": {},
   "source": [
    "### 4 - Modeling the data\n",
    "\n",
    "4.1 - Assumptions of OLS Linear Regression (Normality, Linearity, \n",
    "Multicollinearity of Independent Variables) \n",
    "\n",
    "4.2 - One-hot encoding of categorical data \n",
    "\n",
    "4.3 - Fitting the Model \n",
    "\n",
    "4.4 - Train/Test-Split \n",
    "\n",
    "4.5 - Cross Validation \n",
    "\n",
    "4.6 - Assumption of OLS Linear Regression (Normality & Homoscedasticity of Residuals)\n",
    "\n",
    "### 4.1 - Assumptions of OLS Linear Regression\n",
    "\n",
    "\n",
    "Normality assumption requires variables to be normally distributed for concluding some sort of statistical significance. It also requires that the calculated error values follow a normal distribution to produce unbiased estimates with the minimum variance - for that later after the regression.\n",
    "\n",
    "However, this assumption is not mandatory for regression if you don't want to do any hypothesis testing. OLS works fine for non-normal data distributions in the context of prediction.\n",
    "\n",
    "The easiest way to check for this assumption is with histograms, Kernel Density Estimate plot (KDE) or Q-Q-Plots."
   ]
  },
  {
   "cell_type": "markdown",
   "metadata": {},
   "source": [
    "### Check this code for errors"
   ]
  },
  {
   "cell_type": "code",
   "execution_count": null,
   "metadata": {},
   "outputs": [],
   "source": [
    "# for column in ['price', 'bedrooms', 'sqft_lot', 'floors', 'view', 'sqft_basement', 'yr_built', \n",
    "#                'sqft_living15', 'sqft_lot15']:\n",
    "#     df[column].plot.hist(density=True, label=column + ' Histogram')\n",
    "#     df[column].plot.kde(label=column + ' KDE')\n",
    "#     plt.legend()\n",
    "#     plt.show()"
   ]
  },
  {
   "cell_type": "code",
   "execution_count": null,
   "metadata": {},
   "outputs": [],
   "source": [
    "df.columns"
   ]
  },
  {
   "cell_type": "code",
   "execution_count": null,
   "metadata": {},
   "outputs": [],
   "source": [
    "df.view.describe()"
   ]
  },
  {
   "cell_type": "markdown",
   "metadata": {},
   "source": [
    "Linearity assumption requires that there should be a linear relationship between the response variable (Y) and predictor (X). Linear means that the change in Y by 1-unit change in X, is constant. Scatterplots can show whether there is a linear or non-linear relationship."
   ]
  },
  {
   "cell_type": "code",
   "execution_count": null,
   "metadata": {},
   "outputs": [],
   "source": [
    "# visualize the pairwise relationship between the features and the response using pairplots (seaborn scatterplots)\n",
    "\n",
    "sns.pairplot(x_vars=['bedrooms', 'sqft_lot', 'floors'], \n",
    "             y_vars='price', data=df, \n",
    "             kind='reg', plot_kws={'line_kws':{'color':'crimson'}}, height=6, aspect=0.7)\n",
    "\n",
    "plt.suptitle('Pair Plots of Pairwise Relationships between X and Y', size=20, weight='bold', y=1.02)\n",
    "\n",
    "sns.pairplot(x_vars=['sqft_basement', 'yr_built', 'sqft_lot15'], \n",
    "             y_vars='price', data=df, \n",
    "             kind='reg', plot_kws={'line_kws':{'color':'crimson'}}, height=6, aspect=0.7)\n",
    "plt.show();"
   ]
  },
  {
   "cell_type": "markdown",
   "metadata": {},
   "source": [
    "Observations:\n",
    "\n",
    "All variables show a more or less slight positive relationship with the target - except yr_built where the line is just flat.\n",
    "Before diving into a more complex linear regression analysis, let’s look at how much each independent variable correlates with the dependent variable using a correlation matrix and just focus on a few promising variables, that seem the most correlated with the price.\n",
    "\n",
    "\n",
    "As we can see a line is a good fit for the data, suggesting linearity compared to a nonlinear function like a parabola."
   ]
  },
  {
   "cell_type": "code",
   "execution_count": null,
   "metadata": {},
   "outputs": [],
   "source": [
    "# plot correlation matrix\n",
    "corr_matrix = df.corr()\n",
    "\n",
    "# sort it by the target variable\n",
    "corr_matrix['price'].sort_values(ascending=False)\n",
    "\n",
    "# convert it into a better looking dataframe\n",
    "pd.DataFrame(corr_matrix['price'].sort_values(ascending=False))"
   ]
  },
  {
   "cell_type": "markdown",
   "metadata": {},
   "source": [
    "copy paste\n",
    "\n",
    "Observations:\n",
    "\n",
    "Indeed, correlation is a nice first step to data exploration before going into a more serious analysis, because it helps to select variables that might be of interest:\n",
    "Especially the price tends to increase when the square footage of the home goes up.\n",
    "On the other hand, coefficients close to zero indicate that there is no linear correlation: square footage of the lot before and in 2015 as well as the building year. All three columns get out.\n",
    "\n",
    "\n",
    "\n",
    "own words:\n",
    "\n"
   ]
  },
  {
   "cell_type": "code",
   "execution_count": null,
   "metadata": {},
   "outputs": [],
   "source": [
    "df.info()"
   ]
  },
  {
   "cell_type": "markdown",
   "metadata": {},
   "source": [
    "### 4.2 One hot encoding of categorical data\n",
    "\n",
    "Before we build the model, we need to create dummy variables for our categorical variables. One-hot encoding is required when adding categorical variables in a regression model!\n",
    "\n",
    "copy paste"
   ]
  },
  {
   "cell_type": "code",
   "execution_count": null,
   "metadata": {},
   "outputs": [],
   "source": [
    "# create dummy variables using get_dummies, then exclude one column\n",
    "# (In general, if you have a categorical feature with k levels, you create k-1 dummy variables.)\n",
    "\n",
    "waterfront_dummies = pd.get_dummies(df.waterfront, prefix='waterfront').iloc[:,0:-1]\n",
    "condition_dummies = pd.get_dummies(df.condition, prefix='condition').iloc[:,1:]\n",
    "grade_dummies = pd.get_dummies(df.grade, prefix='grade').iloc[:,1:]\n",
    "renovated_dummies = pd.get_dummies(df.renovated, prefix='renovated').iloc[:,1:]\n",
    "view_dummies = pd.get_dummies(df.view, prefix='view').iloc[:,1:]"
   ]
  },
  {
   "cell_type": "code",
   "execution_count": null,
   "metadata": {},
   "outputs": [],
   "source": [
    "# concatenate the dummy variable columns onto the original dataframe\n",
    "data = pd.concat([df, waterfront_dummies, condition_dummies, grade_dummies, \n",
    "                  renovated_dummies, view_dummies], axis=1)\n",
    "data.head(2)"
   ]
  },
  {
   "cell_type": "code",
   "execution_count": null,
   "metadata": {},
   "outputs": [],
   "source": [
    "data.columns\n",
    "data.info()\n"
   ]
  },
  {
   "cell_type": "markdown",
   "metadata": {},
   "source": [
    "### 4.3 - Fitting the model\n",
    "\n",
    "#### Simple linear regression(s) to select features¶\n"
   ]
  },
  {
   "cell_type": "code",
   "execution_count": null,
   "metadata": {},
   "outputs": [],
   "source": [
    "# loading scikit learn\n",
    "from sklearn.linear_model import LinearRegression\n"
   ]
  },
  {
   "cell_type": "code",
   "execution_count": null,
   "metadata": {},
   "outputs": [],
   "source": [
    "# create X and y\n",
    "feature_cols = [ 'bedrooms', 'floors', 'sqft_living', 'sqft_lot',\n",
    "                'sqft_basement', 'yr_built', 'sqft_lot15',\n",
    "                'waterfront_0.0', 'condition_2', 'condition_3',\n",
    "       'condition_4', 'condition_5', 'grade_4', 'grade_5', 'grade_6',\n",
    "       'grade_7', 'grade_8', 'grade_9', 'grade_10', 'grade_11', 'grade_12',\n",
    "       'grade_13', 'renovated_20th century', 'renovated_21st century',\n",
    "       'view_1.0', 'view_2.0', 'view_3.0', 'view_4.0']\n",
    "X = data[feature_cols]\n",
    "y = data.price\n",
    "\n",
    "# fit the model\n",
    "lm = LinearRegression()\n",
    "lm.fit(X, y)\n",
    "\n",
    "# print intercept\n",
    "print(\"Estimated intercept:\", lm.intercept_)"
   ]
  },
  {
   "cell_type": "code",
   "execution_count": null,
   "metadata": {},
   "outputs": [],
   "source": [
    "# pair the feature names with the coefficients into a dataframe\n",
    "pd.DataFrame(list(zip(feature_cols, lm.coef_)), columns=['Features', 'Estimated Coefficient'])"
   ]
  },
  {
   "cell_type": "markdown",
   "metadata": {},
   "source": [
    "estimated coefficient suggests on average, for a one unit increase in x there is an increase in y of estimated coefficient value"
   ]
  },
  {
   "cell_type": "code",
   "execution_count": null,
   "metadata": {},
   "outputs": [],
   "source": [
    "# print R²\n",
    "print(\"Estimated R squared:\")\n",
    "print(lm.score(X,y))"
   ]
  },
  {
   "cell_type": "code",
   "execution_count": null,
   "metadata": {},
   "outputs": [],
   "source": [
    "#try the same procedure with statsmodels\n",
    "import statsmodels.api as sm\n",
    "\n",
    "# add an intercept (beta_0) to our model\n",
    "X = sm.add_constant(X) \n",
    "\n",
    "# fit the model\n",
    "model = sm.OLS(y, X).fit()\n",
    "predictions = model.predict(X)\n",
    "\n",
    "# Print out the statistics\n",
    "model.summary()"
   ]
  },
  {
   "cell_type": "markdown",
   "metadata": {},
   "source": [
    "(copy paste) \n",
    "The result is exactly the same as in scikit-learn!\n",
    "\n",
    "Interpretation:\n",
    "\n",
    "The regression output shows that all variables are statistically significant because their p-values are less than 0.05. Some dummies are higher, but as long as other dummies related to the same categorical variable are significant, I won't take them out.\n",
    "Meaning, I've already done well selecting interesting features by dropping variables highly intercorrelated with each other or not at all with the target.\n",
    "With regards to the coefficients, most variables are positively correlated with the price, only (lower) grades, a renovation status years back and the building year are negatively correlated.\n",
    "The R² value reflects the percentage of the dependent variable variation that the linear model explains. An R² of 0.659 means that this model explains 65.9% of the variance in the price. This is two-thirds which is good but not great.\n",
    "Out of curiosity, I split the regression analysis into two: one for continuous predictors and one for categorical predictors:"
   ]
  },
  {
   "cell_type": "markdown",
   "metadata": {},
   "source": [
    "### 4.4 - Train-test split"
   ]
  },
  {
   "cell_type": "code",
   "execution_count": null,
   "metadata": {},
   "outputs": [],
   "source": [
    "# import libraries\n",
    "from sklearn.model_selection import train_test_split\n",
    "from sklearn.metrics import mean_squared_error"
   ]
  },
  {
   "cell_type": "code",
   "execution_count": null,
   "metadata": {},
   "outputs": [],
   "source": [
    "# defining feature and target variables again\n",
    "feature_cols = ['bedrooms', 'floors', 'sqft_living', 'sqft_lot',\n",
    "                'sqft_basement', 'yr_built', 'sqft_lot15',\n",
    "                'waterfront_0.0', 'condition_2', 'condition_3',\n",
    "       'condition_4', 'condition_5', 'grade_4', 'grade_5', 'grade_6',\n",
    "       'grade_7', 'grade_8', 'grade_9', 'grade_10', 'grade_11', 'grade_12',\n",
    "       'grade_13', 'renovated_20th century', 'renovated_21st century',\n",
    "       'view_1.0', 'view_2.0', 'view_3.0', 'view_4.0']\n",
    "X = data[feature_cols]\n",
    "y = data.price"
   ]
  },
  {
   "cell_type": "code",
   "execution_count": null,
   "metadata": {},
   "outputs": [],
   "source": [
    "# train-test-split\n",
    "X_train, X_test, y_train, y_test = train_test_split(X, y, test_size=0.20)\n",
    "print(X_train.shape, X_test.shape, y_train.shape, y_test.shape)"
   ]
  },
  {
   "cell_type": "code",
   "execution_count": null,
   "metadata": {},
   "outputs": [],
   "source": [
    "# instantiate model again and fit model to the training data (learn the coefficients)\n",
    "model = LinearRegression()\n",
    "model.fit(X_train, y_train)\n",
    "\n",
    "# print R²\n",
    "print(\"Estimated R²:\")\n",
    "print(lm.score(X,y))\n",
    "\n",
    "# pair the feature names with the coefficients into a dataframe\n",
    "pd.DataFrame(list(zip(feature_cols, lm.coef_)), columns=['Features', 'Estimated Coefficient'])"
   ]
  },
  {
   "cell_type": "code",
   "execution_count": null,
   "metadata": {},
   "outputs": [],
   "source": [
    "# apply the model to predict prices for test data\n",
    "y_pred_test = lm.predict(X_test)\n",
    "\n",
    "fig, ax = plt.subplots(1,2, figsize=(20, 6))\n",
    "\n",
    "# visualize the differences between actual values and predicted values in TEST data\n",
    "ax1 = fig.add_subplot(121)\n",
    "ax1.scatter(y_test, y_pred_test, marker='.', c='navy')\n",
    "ax1.set_xlabel(\"\\nActual Prices\")\n",
    "ax1.set_ylabel(\"Predicted Prices\\n\")\n",
    "ax1.set_title(\"\\nActual Prices vs. Predicted Prices in Test Set\\n\", size=14, weight='bold')\n",
    "\n",
    "# apply the model to predict prices for test data\n",
    "y_pred_train = lm.predict(X_train)\n",
    "\n",
    "# visualize the differences between actual values and predicted values in TRAIN data\n",
    "ax2 = fig.add_subplot(122)\n",
    "ax2.scatter(y_train, y_pred_train, marker='.', c='grey')\n",
    "ax2.set_xlabel(\"\\nActual Prices\")\n",
    "ax2.set_ylabel(\"Predicted Prices\\n\")\n",
    "ax2.set_title(\"\\nActual Prices vs. Predicted Prices in Train Set\\n\", size=14, weight='bold');"
   ]
  },
  {
   "cell_type": "markdown",
   "metadata": {},
   "source": [
    "ideally, the scatter plot should create a linear line. Since the model does not fit 100% - and honestly not even close to 100% -, the scatter plot can't create a linear line. To check the level of error of a model, we calculate the residuals and the error measures:"
   ]
  },
  {
   "cell_type": "code",
   "execution_count": null,
   "metadata": {},
   "outputs": [],
   "source": [
    "# calculate residuals by hand\n",
    "train_residuals = y_pred_train - y_train\n",
    "test_residuals = y_pred_test  - y_test"
   ]
  },
  {
   "cell_type": "markdown",
   "metadata": {},
   "source": [
    "(copy paste)\"\n",
    "\n",
    "There are several error measures:\n",
    "\n",
    "The Mean Absolute Error (MAE) is the easiest to understand, because it's the average error.\n",
    "\n",
    "The Mean Squared Error (MSE) is the mean of the squared errors and more popular than MAE, because MSE \"punishes\" larger errors.\n",
    "\n",
    "And the Root Mean Squared Error (RMSE) is the square root of the mean of the squared errors.\n",
    "\n",
    "RMSE indicates the absolute fit of the model to the data – how close the observed data points are to the model’s predicted values. Whereas R² is a relative measure of fit, RMSE is an absolute measure of fit. As the square root of a variance, RMSE can be interpreted as the standard deviation of the unexplained variance, and has the useful property of being in the same units as the response variable. Lower values of RMSE indicate better fit. RMSE is a good measure of how accurately the model predicts the response, and it is the most important criterion for fit if the main purpose of the model is prediction."
   ]
  },
  {
   "cell_type": "code",
   "execution_count": null,
   "metadata": {},
   "outputs": [],
   "source": [
    "\n",
    "# calculate Mean Squared Error (MSE)\n",
    "mse_train = mean_squared_error(y_train, y_pred_train)\n",
    "mse_test = mean_squared_error(y_test, y_pred_test)\n",
    "print(\"MSE Train Set:\", mse_train) \n",
    "print(\"MSE Test Set :\", mse_test)\n",
    "\n",
    "# calculate Root Mean Squared Error (RMSE)\n",
    "rmse_train = np.sqrt(mse_train)\n",
    "rmse_test = np.sqrt(mse_test)\n",
    "print(\"\\nRMSE Train Set:\", rmse_train)\n",
    "print(\"RMSE Test Set:\", rmse_test)\n",
    "\n",
    "# calculate standard deviation of response variable\n",
    "print(\"\\nStD Target:\", df.price.std())"
   ]
  },
  {
   "cell_type": "markdown",
   "metadata": {},
   "source": [
    "copy paste\n",
    "\n",
    "If my test error were substantially worse then my train error, this would be a sign that my model doesn't generalize well to future cases. But this isn't the case, so I can assume, my model is generalizing quiet well.\n",
    "\n"
   ]
  },
  {
   "cell_type": "markdown",
   "metadata": {},
   "source": [
    "### 4.5 Cross validation\n",
    "\n",
    "copy paste\n",
    "\n",
    "\n",
    "A train/test-split does have its dangers  -  what if the split we make isn’t random? This will result in overfitting, even though we’re trying to avoid it! In order to prevent our data from overfitting, we can perform cross validation.\n",
    "\n",
    "(own words)\n",
    "Cross validation is a fail-safe measure in the event that the train/test split does not generalize well to new data, also known as overfitting. this step is the assurance or validation that the model will effectively interpret new data without underfitting or overfitting issues."
   ]
  },
  {
   "cell_type": "code",
   "execution_count": null,
   "metadata": {},
   "outputs": [],
   "source": [
    "# import libraries\n",
    "from sklearn.model_selection import cross_val_score"
   ]
  },
  {
   "cell_type": "code",
   "execution_count": null,
   "metadata": {},
   "outputs": [],
   "source": [
    "# perform 5-fold cross validation with the final model and printing R^2\n",
    "scores1 = cross_val_score(model, X, y, cv=5, scoring='r2')\n",
    "print(\"Cross-validated R² scores:\")\n",
    "print(scores1)"
   ]
  },
  {
   "cell_type": "code",
   "execution_count": null,
   "metadata": {},
   "outputs": [],
   "source": [
    "# printing MSE's\n",
    "scores2 = cross_val_score(model, X, y, cv=5, scoring='neg_mean_squared_error')\n",
    "print(\"Cross-validated neg. MSE's:\")\n",
    "print(scores2)"
   ]
  },
  {
   "cell_type": "markdown",
   "metadata": {},
   "source": [
    "### 4.6 - Assumptions of OLS Linear Regression\n",
    "\n",
    "We're going to check for normal distribution and homoscedasticity"
   ]
  },
  {
   "cell_type": "code",
   "execution_count": null,
   "metadata": {},
   "outputs": [],
   "source": [
    "# plotting train and test residuals to check their distribution\n",
    "plt.figure(figsize=(8,6))\n",
    "plt.hist(train_residuals, color= 'green', label='Train Residuals', alpha=0.4)\n",
    "plt.hist(test_residuals, color='purple', label='Test  Residuals', alpha=0.6)\n",
    "plt.legend(loc=2)\n",
    "plt.show();"
   ]
  },
  {
   "cell_type": "markdown",
   "metadata": {},
   "source": [
    "\n",
    "b) Homoscedasticity of Residuals\n",
    "This assumption requires the error term to be consistent for all observations. Homoscedasticity describes a situation in which the variance of the error term (that is, the “noise” or random disturbance in the relationship between the independent variables and the dependent variable) does not change for each observation or for a range of observations.\n",
    "\n",
    "Heteroscedasticity (the violation of homoscedasticity) is present when the size of the error term differs across values of an independent variable.\n",
    "\n",
    "The easiest way to check this assumption is to create a residuals versus fitted value scatter plot. Heteroscedasticity would appear as a cone shape where the spread of the residuals increases in one direction."
   ]
  },
  {
   "cell_type": "code",
   "execution_count": null,
   "metadata": {},
   "outputs": [],
   "source": [
    "# plotting residuals in a scatterplot to check their variance\n",
    "fig, ax = plt.subplots(1,2, figsize=(20, 6))\n",
    "\n",
    "ax1 = fig.add_subplot(121)\n",
    "ax1.scatter(x=y_pred_test, y=test_residuals, c='navy', marker='.')\n",
    "ax1.set_title('\\nResiduals in Test Set\\n', size=14, weight='bold')\n",
    "ax1.set_xlabel('\\nPredicted Values\\n')\n",
    "ax1.set_ylabel('Residuals')\n",
    "\n",
    "ax2 = fig.add_subplot(122)\n",
    "ax2.scatter(x=y_pred_train, y=train_residuals, c='grey', marker='.')\n",
    "ax2.set_title('\\nResiduals in Train Set\\n', size=14, weight='bold')\n",
    "ax2.set_xlabel('\\nPredicted Values\\n')\n",
    "ax2.set_ylabel('Residuals');"
   ]
  },
  {
   "cell_type": "markdown",
   "metadata": {},
   "source": [
    "(COPY PASTE)\n",
    "Interpretation:\n",
    "\n",
    "The scatterplots for both train and test residuals show heteroscedasticity. So one of our assumptions for linear regression is violated.\n",
    "The problem that heteroscedasticity presents for regression models is simple: The ordinary least-squares (OLS) regression seeks to minimize residuals and in turn produce the smallest possible standard errors. By definition, OLS regression gives equal weight to all observations, but when heteroscedasticity is present, the cases with larger disturbances have more “pull” than other observations. In this case, weighted least squares regression would be more appropriate, as it down-weights those observations with larger disturbances.\n",
    "We'll have to keep that in mind!"
   ]
  },
  {
   "cell_type": "markdown",
   "metadata": {},
   "source": [
    "## 5 - Interpreting the data\n",
    "\n",
    "### 5.1 - How good is my final model?\n",
    "When we use regression to make predictions, our goal is to produce predictions that are both correct on average and close to the real values. In other words, we need predictions that are both unbiased and precise.\n",
    "\n",
    "Bias Measures\n",
    "\n",
    "One of the most important things is to assess the residual plots. If one sees patterns in the residual plots, you know that your model is not 100% correct.\n",
    "Although my model produced normally distributed residuals, their variability were unequal across the range of fitted values (heteroscedasticity). Therefore I keep calm and collected assuming my model not to be completely correct or efficient.\n",
    "The p-values indicate whether a relationship is statistically significant. The p-values for all included independent variables were significant and less than 0.05.\n",
    "Precision Measures\n",
    "\n",
    "The R-squared as a goodness-of-fit measure for linear regression models indicates the percentage of the variance in the dependent variable that the independent variables explain collectively. This statistic measures the strength of the relationship between the model and the dependent variables on a convenient 0 – 100% scale.\n",
    "The R-squared for my model is around 65%, which is good (at least two-thirds!) but not great.\n",
    "\n",
    "### 5.2 - What does my final model explain?"
   ]
  },
  {
   "cell_type": "code",
   "execution_count": null,
   "metadata": {},
   "outputs": [],
   "source": [
    "# pair the feature names with the (sorted) coefficients calculated in the final model\n",
    "pd.DataFrame(list(zip(feature_cols, lm.coef_)), columns=['Features', 'Estimated Coefficient']).sort_values(\n",
    "    by='Estimated Coefficient', ascending=False)"
   ]
  },
  {
   "cell_type": "markdown",
   "metadata": {},
   "source": [
    "copy paste\n",
    "\n",
    "The coefficients in the equation define the nature of relationship between each independent variable and the dependent variable both in strength and direction.\n",
    "\n",
    "One can see that categorical variables are most important:\n",
    "\n",
    "The utmost importance of grade comes as no real surprise. To remember: This is an overall grade given to the housing unit, based on King County grading system. Houses provided with the highest grades (13 or 12) reach prices higher by 2,353,862 Dollar (!) resp. 904,333.80 Dollar compared to lower graded ones.\n",
    "A house located at the waterfront can expect to achieve about 629,326.50 Dollar more than a house not located that picturesque.\n",
    "The renovation status (= yr_rencat...) plays also an important role which makes sense giving the meaning of grades. Recently renovated building are of more value than others - expressed in numbers: by roughly 180,599.60 Dollar.\n",
    "Amongst numerical variables the floor appears first as predictor:\n",
    "\n",
    "One floor more increases the price of a house on average by 44,625.54 Dollar.\n",
    "With every additional visit of a house (= view) the price goes up by 43,579.28 Dollar on average.\n",
    "One bedroom more increases the price by averaged 17,317.06 and every added square footage in the basement boosts the value by averaged 116.70 Dollar.\n",
    "\n",
    "### 5.3. - What about practical significance?\n",
    "\n",
    "The model I built explains at least 65%. Or should I better say: only 65%?\n",
    "\n",
    "The regression model essentially is this:\n",
    "Dependent Variable = Deterministic Part + Stochastic Error\n",
    "\n",
    "The deterministic component is the portion of the variation in the dependent variable that the independent variables explain: 65%.\n",
    "The stochastic error means just the unpredictable difference between the expected value and the observed value. In my model: 35%.\n",
    "The standard deviation of my mean error (expressed by the RMSE) is roughly 210,000. In other words: The predicted price could be in a range of 210,000 Dollar more or 210,000 Dollar less. That's exactly the unpredictable part!\n",
    "House Price = 65% Predictable + 35% Unpredictable\n",
    "\n",
    "Let's sum up: I managed to build a model able to predict a house's price with 65% accuracy. No more, no less. You can work with my model but should no its limitations.\n",
    "You may also find some useful insights for sellers such as: To unlock some price potentials, consider renovations before you enter the market and make sure potential buyers view your home!"
   ]
  },
  {
   "cell_type": "code",
   "execution_count": null,
   "metadata": {},
   "outputs": [],
   "source": []
  }
 ],
 "metadata": {
  "kernelspec": {
   "display_name": "Python 3",
   "language": "python",
   "name": "python3"
  },
  "language_info": {
   "codemirror_mode": {
    "name": "ipython",
    "version": 3
   },
   "file_extension": ".py",
   "mimetype": "text/x-python",
   "name": "python",
   "nbconvert_exporter": "python",
   "pygments_lexer": "ipython3",
   "version": "3.7.3"
  }
 },
 "nbformat": 4,
 "nbformat_minor": 2
}
